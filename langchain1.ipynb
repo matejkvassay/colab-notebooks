{
  "nbformat": 4,
  "nbformat_minor": 0,
  "metadata": {
    "colab": {
      "provenance": [],
      "toc_visible": true,
      "authorship_tag": "ABX9TyOCQmrSiUjwv20OjSe2ikf1",
      "include_colab_link": true
    },
    "kernelspec": {
      "name": "python3",
      "display_name": "Python 3"
    },
    "language_info": {
      "name": "python"
    }
  },
  "cells": [
    {
      "cell_type": "markdown",
      "metadata": {
        "id": "view-in-github",
        "colab_type": "text"
      },
      "source": [
        "<a href=\"https://colab.research.google.com/github/matejkvassay/colab-notebooks/blob/master/langchain1.ipynb\" target=\"_parent\"><img src=\"https://colab.research.google.com/assets/colab-badge.svg\" alt=\"Open In Colab\"/></a>"
      ]
    },
    {
      "cell_type": "code",
      "execution_count": 1,
      "metadata": {
        "colab": {
          "base_uri": "https://localhost:8080/"
        },
        "id": "LRKH-EUlJQV3",
        "outputId": "b3741453-1e6f-470c-964c-674fcfc8cc3e"
      },
      "outputs": [
        {
          "output_type": "stream",
          "name": "stdout",
          "text": [
            "\u001b[33mWARNING: Running pip as the 'root' user can result in broken permissions and conflicting behaviour with the system package manager. It is recommended to use a virtual environment instead: https://pip.pypa.io/warnings/venv\u001b[0m\u001b[33m\n",
            "\u001b[0m"
          ]
        }
      ],
      "source": [
        "%pip install --upgrade -q pip openai langchain huggingface"
      ]
    },
    {
      "cell_type": "code",
      "source": [
        "from google.colab import userdata\n",
        "from langchain_openai import ChatOpenAI\n",
        "from langchain_core.output_parsers import StrOutputParser, JsonOutputParser\n",
        "from langchain_core.pydantic_v1 import BaseModel, Field\n",
        "from langchain_core.prompts import ChatPromptTemplate, PromptTemplate\n",
        "from langchain.globals import set_debug, set_verbose"
      ],
      "metadata": {
        "id": "lYHcafNmJT0L"
      },
      "execution_count": 18,
      "outputs": []
    },
    {
      "cell_type": "code",
      "source": [
        "API_KEY = userdata.get('OPENAI_API_KEY')\n",
        "llm = ChatOpenAI(model=\"gpt-3.5-turbo\", openai_api_key=API_KEY, verbose=True)"
      ],
      "metadata": {
        "id": "SFIekmInRDOJ"
      },
      "execution_count": 38,
      "outputs": []
    },
    {
      "cell_type": "markdown",
      "source": [
        "# Basic prompt"
      ],
      "metadata": {
        "id": "iir2cy4wPX02"
      }
    },
    {
      "cell_type": "code",
      "source": [
        "prompt = ChatPromptTemplate.from_template(\"If {country} is a country tell me it's population. Otherwise politely refuse to answer.\")\n",
        "output_parser = StrOutputParser()\n",
        "\n",
        "chain = prompt | llm | output_parser\n",
        "\n",
        "chain.invoke({\"country\": \"bratislava\"})"
      ],
      "metadata": {
        "colab": {
          "base_uri": "https://localhost:8080/",
          "height": 35
        },
        "id": "JcFEx4p-K0P0",
        "outputId": "e91f4af0-874a-4224-cac2-62519ef6d460"
      },
      "execution_count": 4,
      "outputs": [
        {
          "output_type": "execute_result",
          "data": {
            "text/plain": [
              "\"I'm sorry, but Bratislava is not a country. It is the capital city of Slovakia.\""
            ],
            "application/vnd.google.colaboratory.intrinsic+json": {
              "type": "string"
            }
          },
          "metadata": {},
          "execution_count": 4
        }
      ]
    },
    {
      "cell_type": "markdown",
      "source": [
        "# Basic prompt - output to JSON"
      ],
      "metadata": {
        "id": "jrQuug9qPaVe"
      }
    },
    {
      "cell_type": "code",
      "source": [
        "class CityInfo(BaseModel):\n",
        "    population: int = Field(description=\"population\")\n",
        "    explanation: str = Field(description=\"detailed step-by-step explanation of how was the population count derived\")\n",
        "\n",
        "parser = JsonOutputParser(pydantic_object=CityInfo)\n",
        "\n",
        "TEMP = \"Answer the user query.\\n{format_instructions}\\n. Query: Tell me population of {country}. Only answer if {country} is a country.\"\n",
        "\n",
        "\n",
        "prompt = PromptTemplate(\n",
        "    template=TEMP,\n",
        "    input_variables=[\"country\"],\n",
        "    partial_variables={\"format_instructions\": parser.get_format_instructions()},\n",
        ")\n",
        "\n",
        "chain = prompt | llm | parser\n",
        "\n",
        "chain.invoke({\"country\": \"Paris\"})"
      ],
      "metadata": {
        "colab": {
          "base_uri": "https://localhost:8080/"
        },
        "id": "xOJTmGcgPD71",
        "outputId": "357008e5-8145-408e-b093-699624186b04"
      },
      "execution_count": 50,
      "outputs": [
        {
          "output_type": "execute_result",
          "data": {
            "text/plain": [
              "{'population': None, 'explanation': None}"
            ]
          },
          "metadata": {},
          "execution_count": 50
        }
      ]
    },
    {
      "cell_type": "code",
      "source": [],
      "metadata": {
        "id": "RHXoG3dvRhmi"
      },
      "execution_count": 5,
      "outputs": []
    }
  ]
}