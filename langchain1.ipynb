{
  "nbformat": 4,
  "nbformat_minor": 0,
  "metadata": {
    "colab": {
      "provenance": [],
      "toc_visible": true,
      "authorship_tag": "ABX9TyPYPJ9NMOEnENuw/4OUtYLm",
      "include_colab_link": true
    },
    "kernelspec": {
      "name": "python3",
      "display_name": "Python 3"
    },
    "language_info": {
      "name": "python"
    }
  },
  "cells": [
    {
      "cell_type": "markdown",
      "metadata": {
        "id": "view-in-github",
        "colab_type": "text"
      },
      "source": [
        "<a href=\"https://colab.research.google.com/github/matejkvassay/colab-notebooks/blob/master/langchain1.ipynb\" target=\"_parent\"><img src=\"https://colab.research.google.com/assets/colab-badge.svg\" alt=\"Open In Colab\"/></a>"
      ]
    },
    {
      "cell_type": "code",
      "execution_count": 4,
      "metadata": {
        "colab": {
          "base_uri": "https://localhost:8080/"
        },
        "id": "LRKH-EUlJQV3",
        "outputId": "4493f154-8ff9-4e0f-cc57-89184cfef164"
      },
      "outputs": [
        {
          "output_type": "stream",
          "name": "stdout",
          "text": [
            "\u001b[33mWARNING: Running pip as the 'root' user can result in broken permissions and conflicting behaviour with the system package manager. It is recommended to use a virtual environment instead: https://pip.pypa.io/warnings/venv\u001b[0m\u001b[33m\n",
            "\u001b[0m"
          ]
        }
      ],
      "source": [
        "%pip install -q --upgrade pip tiktoken cohere openai langchain langchain-openai langchain-community langchain-experimental huggingface"
      ]
    },
    {
      "cell_type": "code",
      "source": [
        "from google.colab import userdata\n",
        "from langchain.chat_models import ChatOpenAI\n",
        "from langchain_core.output_parsers import StrOutputParser, JsonOutputParser\n",
        "from langchain_core.pydantic_v1 import BaseModel, Field\n",
        "from langchain_core.prompts import ChatPromptTemplate, PromptTemplate\n",
        "from langchain.globals import set_debug, set_verbose\n",
        "from langchain_core.messages import HumanMessage, SystemMessage, AIMessage"
      ],
      "metadata": {
        "id": "lYHcafNmJT0L"
      },
      "execution_count": 7,
      "outputs": []
    },
    {
      "cell_type": "code",
      "source": [
        "API_KEY = userdata.get('OPENAI_API_KEY')\n",
        "llm = ChatOpenAI(model=\"gpt-3.5-turbo\", openai_api_key=API_KEY, verbose=True)"
      ],
      "metadata": {
        "id": "SFIekmInRDOJ",
        "colab": {
          "base_uri": "https://localhost:8080/"
        },
        "outputId": "b26d6132-d249-4563-d973-ef587f587682"
      },
      "execution_count": 8,
      "outputs": [
        {
          "output_type": "stream",
          "name": "stderr",
          "text": [
            "/usr/local/lib/python3.10/dist-packages/langchain_core/_api/deprecation.py:117: LangChainDeprecationWarning: The class `langchain_community.chat_models.openai.ChatOpenAI` was deprecated in langchain-community 0.0.10 and will be removed in 0.2.0. An updated version of the class exists in the langchain-openai package and should be used instead. To use it run `pip install -U langchain-openai` and import as `from langchain_openai import ChatOpenAI`.\n",
            "  warn_deprecated(\n"
          ]
        }
      ]
    },
    {
      "cell_type": "markdown",
      "source": [
        "# Basic prompt"
      ],
      "metadata": {
        "id": "iir2cy4wPX02"
      }
    },
    {
      "cell_type": "code",
      "source": [
        "prompt = ChatPromptTemplate.from_template(\"If {country} is a country tell me it's population. Otherwise politely refuse to answer.\")\n",
        "output_parser = StrOutputParser()\n",
        "\n",
        "chain = prompt | llm | output_parser\n",
        "\n",
        "chain.invoke({\"country\": \"bratislava\"})"
      ],
      "metadata": {
        "colab": {
          "base_uri": "https://localhost:8080/",
          "height": 52
        },
        "id": "JcFEx4p-K0P0",
        "outputId": "c879bc3a-7a6e-4c1d-b6a5-d37344b96061"
      },
      "execution_count": 9,
      "outputs": [
        {
          "output_type": "execute_result",
          "data": {
            "text/plain": [
              "'I apologize for any confusion, but Bratislava is not a country. It is the capital city of Slovakia. The population of Bratislava is approximately 437,725 as of 2021.'"
            ],
            "application/vnd.google.colaboratory.intrinsic+json": {
              "type": "string"
            }
          },
          "metadata": {},
          "execution_count": 9
        }
      ]
    },
    {
      "cell_type": "markdown",
      "source": [
        "# Basic prompt - output to JSON"
      ],
      "metadata": {
        "id": "jrQuug9qPaVe"
      }
    },
    {
      "cell_type": "code",
      "source": [
        "class CityInfo(BaseModel):\n",
        "    population: int = Field(description=\"population\")\n",
        "    explanation: str = Field(description=\"detailed step-by-step explanation of how was the population count derived\")\n",
        "\n",
        "parser = JsonOutputParser(pydantic_object=CityInfo)\n",
        "\n",
        "TEMP = \"Answer the user query.\\n{format_instructions}\\n. Query: Tell me population of {country}. Only answer if {country} is a country.\"\n",
        "\n",
        "\n",
        "prompt = PromptTemplate(\n",
        "    template=TEMP,\n",
        "    input_variables=[\"country\"],\n",
        "    partial_variables={\"format_instructions\": parser.get_format_instructions()},\n",
        ")\n",
        "\n",
        "chain = prompt | llm | parser\n",
        "\n",
        "chain.invoke({\"country\": \"Paris\"})"
      ],
      "metadata": {
        "colab": {
          "base_uri": "https://localhost:8080/"
        },
        "id": "xOJTmGcgPD71",
        "outputId": "9a7524d8-76dd-4110-e219-72b87b2e7cc7"
      },
      "execution_count": 10,
      "outputs": [
        {
          "output_type": "execute_result",
          "data": {
            "text/plain": [
              "{'population': None, 'explanation': None}"
            ]
          },
          "metadata": {},
          "execution_count": 10
        }
      ]
    },
    {
      "cell_type": "markdown",
      "source": [
        "# Chat"
      ],
      "metadata": {
        "id": "b6VjF1FIXWI6"
      }
    },
    {
      "cell_type": "code",
      "source": [
        "SQL_EXAMPLE = \"\"\"\n",
        "Explain following SQL query to\n",
        "SELECT  DISTINCT (ct.date),\n",
        "        cty.card_type_name,\n",
        "        SUM (ct.amount) OVER (PARTITION BY cty.card_type_name ORDER BY ct.date ASC) AS transaction_running_total\n",
        "FROM card_transaction ct\n",
        "JOIN card_number cn ON ct.card_number_id = cn.id\n",
        "JOIN card_type cty ON cn.card_type_id = cty.id\n",
        "WHERE date > '2020-11-30' AND date <= '2020-12-31'\n",
        "ORDER BY cty.card_type_name ASC;\n",
        "\"\"\""
      ],
      "metadata": {
        "id": "CYBnq1OVXYDc"
      },
      "execution_count": 11,
      "outputs": []
    },
    {
      "cell_type": "code",
      "source": [
        "from langchain_core.messages import HumanMessage, SystemMessage"
      ],
      "metadata": {
        "id": "Dw_tNMItXm7M"
      },
      "execution_count": 12,
      "outputs": []
    },
    {
      "cell_type": "code",
      "source": [
        "messages = [\n",
        "    SystemMessage(content=\"You're a helpful assistant\"),\n",
        "    HumanMessage(content=\"What is the purpose of model regularization?\"),\n",
        "]"
      ],
      "metadata": {
        "id": "np47AZPXY5q3"
      },
      "execution_count": 13,
      "outputs": []
    },
    {
      "cell_type": "code",
      "source": [
        "ai_msg = llm.invoke(messages)\n",
        "\n"
      ],
      "metadata": {
        "id": "kYLICCRFZGpH"
      },
      "execution_count": 14,
      "outputs": []
    },
    {
      "cell_type": "code",
      "source": [
        "ai_msg.content"
      ],
      "metadata": {
        "colab": {
          "base_uri": "https://localhost:8080/",
          "height": 137
        },
        "id": "Z6--bhufZHMQ",
        "outputId": "21b30120-be86-443a-a3d6-3a5a30b9c534"
      },
      "execution_count": 15,
      "outputs": [
        {
          "output_type": "execute_result",
          "data": {
            "text/plain": [
              "\"The purpose of model regularization is to prevent overfitting in machine learning models. Overfitting occurs when a model becomes too complex and starts to memorize the training data instead of generalizing patterns and relationships. Regularization techniques help to control the model's complexity and reduce the risk of overfitting.\\n\\nRegularization introduces additional constraints or penalties to the model during the training process. These constraints encourage the model to prioritize simpler solutions and avoid fitting noise or irrelevant patterns in the data. By doing so, regularization improves the model's ability to generalize well to unseen data and improves its performance on test or validation sets.\""
            ],
            "application/vnd.google.colaboratory.intrinsic+json": {
              "type": "string"
            }
          },
          "metadata": {},
          "execution_count": 15
        }
      ]
    },
    {
      "cell_type": "code",
      "source": [
        "llm.invoke('Hey there!')"
      ],
      "metadata": {
        "colab": {
          "base_uri": "https://localhost:8080/"
        },
        "id": "j-4u1Cp42LPz",
        "outputId": "c8a63457-36e1-46e6-ac89-daaf5254b3cd"
      },
      "execution_count": 17,
      "outputs": [
        {
          "output_type": "execute_result",
          "data": {
            "text/plain": [
              "AIMessage(content='Hello! How can I assist you today?')"
            ]
          },
          "metadata": {},
          "execution_count": 17
        }
      ]
    },
    {
      "cell_type": "markdown",
      "source": [
        "# Text2SQL"
      ],
      "metadata": {
        "id": "GzOhL9IV2N1i"
      }
    },
    {
      "cell_type": "code",
      "source": [
        "set_debug(False)"
      ],
      "metadata": {
        "id": "WAZyvLJj47cC"
      },
      "execution_count": 49,
      "outputs": []
    },
    {
      "cell_type": "code",
      "source": [
        "gpt3_5 = ChatOpenAI(model=\"gpt-3.5-turbo\", openai_api_key=API_KEY, verbose=True)\n",
        "gpt4 = ChatOpenAI(model=\"gpt-4\", openai_api_key=API_KEY, verbose=True)"
      ],
      "metadata": {
        "id": "KBX5AaCU25nY"
      },
      "execution_count": 62,
      "outputs": []
    },
    {
      "cell_type": "code",
      "source": [
        "PROMPT_IDX = 1\n",
        "QUERY_IDX = 2\n",
        "\n",
        "explanation_prompts = [\n",
        "\"\"\"Explain what data is following SQL query fetching to a non-technical user.\n",
        "Be very brief, mention short summary, tables and filtering criteria. Format answer as list items.\n",
        "\"\"\".strip(),\n",
        "\n",
        "\"\"\"\n",
        "Provide brief summary of what data is following SQL query fetching.\n",
        "Start with \"Summary\" section containing 1 sentence explanation.\n",
        "Afterwards follow by \"Details\" section where you mention what tables is query using and what filtering criteria is applied in short bullet points.\n",
        "\"\"\",\n",
        "\n",
        "\"\"\"\n",
        "\"\"\"\n",
        "]\n",
        "\n",
        "queries = [\n",
        "\"\"\"\n",
        "select\n",
        "FiscalYear,\n",
        "Q1\n",
        "from Data\n",
        "where\n",
        "Company = 'Royal Bank'\n",
        "and\n",
        "StatementType = 'Income Statement'\n",
        "and\n",
        "LineItem = 'Sales'\n",
        "order by FiscalYear\n",
        "\"\"\".strip(),\n",
        "\n",
        "\"\"\"\n",
        "WITH top_cust AS (\n",
        "      SELECT SUM(sales.amount) AS sales_17,\n",
        "             SUM(discounts.amount) AS discounts_17,\n",
        "             SUM(sales.amount) + SUM(discounts.amount) AS net_sales_17,\n",
        "             clients.name AS client,\n",
        "             clients.id AS client_id\n",
        "      FROM clients\n",
        "      JOIN sales\n",
        "      ON sales.client_id = clients.id\n",
        "      JOIN discounts\n",
        "      ON discounts.sale_id = sales.id\n",
        "      WHERE EXTRACT(year FROM sales.transaction_date) = 2017\n",
        "      GROUP BY 4,5\n",
        "      ORDER BY 3 DESC\n",
        "      LIMIT 10\n",
        "      ),\n",
        "      ytd_2016 AS (\n",
        "      SELECT SUM(sales.amount) AS sales_16,\n",
        "             SUM(discounts.amount) AS discounts_16,\n",
        "             SUM(sales.amount) + SUM(discounts.amount) AS net_sales_16,\n",
        "             clients.name AS client,\n",
        "             clients.id AS id\n",
        "      FROM clients\n",
        "      JOIN sales\n",
        "      ON sales.client_id = clients.id\n",
        "      JOIN discounts\n",
        "      ON discounts.sale_id = sales.id\n",
        "      WHERE EXTRACT(month FROM sales.transaction_date) BETWEEN 01 AND #{month}\n",
        "            AND EXTRACT(year FROM sales.transaction_date) = 2016\n",
        "      GROUP BY 4,5\n",
        "      )\n",
        "      SELECT sales_16, discounts_16, net_sales_16, top_cust.*\n",
        "      FROM top_cust\n",
        "      JOIN ytd_2016 ON top_cust.client_id = ytd_2016.id;\"\n",
        "\"\"\",\n",
        "\n",
        "\"\"\"\n",
        ";WITH cte AS\n",
        "(\n",
        "    SELECT 1 as QuartersAgo, GETDATE() as DT,\n",
        "        CAST(YEAR(DATEADD(MONTH, 3, GETDATE())) AS VARCHAR(4)) + CAST(DATEPART(QUARTER, DATEADD(MONTH, 3, GETDATE())) AS VARCHAR(1)) as FinancialQuarter\n",
        "    UNION ALL\n",
        "    SELECT QuartersAgo + 1, DATEADD(MONTH, -3, cte.DT),\n",
        "        CAST(YEAR(DATEADD(MONTH, 3, DATEADD(MONTH, -3, cte.DT))) AS VARCHAR(4)) + CAST(DATEPART(QUARTER, DATEADD(MONTH, 3, DATEADD(MONTH, -3, cte.DT))) AS VARCHAR(1))\n",
        "    FROM cte\n",
        "    WHERE QuartersAgo < 4\n",
        ")\n",
        "SELECT FinancialQuarter, QuartersAgo FROM cte\n",
        "\"\"\",\n",
        "\n",
        "\"\"\"\n",
        "SELECT\n",
        "  abs(sum(amount)) as total_per_cat,\n",
        "  abs(sum(amount))/(select sum(amount) from finance_flow where amount>0) *100 as percentage,\n",
        "  category.name\n",
        "FROM finance_flow\n",
        "LEFT JOIN category ON finance_flow.cat_id = category.id\n",
        "WHERE amount<0\n",
        "GROUP BY category.name\n",
        "\"\"\",\n",
        "\n",
        "\"\"\"\n",
        "SELECT i.InvoiceID, i.CustomerID, i.EmployeeID, i.storeID, i.InvoiceDateTimeUTC, ii.Price, ii.Quantity, ii.Price * ii.Quantity AS ItemTotal,\n",
        "       SUM(ii.Price * ii.Quantity) OVER (PARTITION BY i.InvoiceID) AS InvoiceTotal,\n",
        "       SUM(ii.Price * ii.Quantity) OVER (PARTITION BY CAST(I.InvoiceDateTimeUTC AS DATE)) AS DailyInvoiceTotal\n",
        "  FROM dbo.Invoices i\n",
        "    INNER JOIN dbo.InvoiceItems ii\n",
        "      ON i.InvoiceID = ii.InvoiceID;\n",
        "\"\"\"\n",
        "\n",
        "]\n",
        "\n",
        "def run_experiment(query_idx, prompt_idx, model):\n",
        "  prompt = PromptTemplate=\"\"\"\n",
        "{explanation_prompt}\n",
        "\n",
        "{sql_query}\n",
        "\n",
        "\"\"\".strip()\n",
        "  prompt = ChatPromptTemplate.from_template(prompt)\n",
        "  prompt = prompt.partial(explanation_prompt=explanation_prompts[prompt_idx])\n",
        "  output_parser = StrOutputParser()\n",
        "  sql_expl_chain = prompt | model | output_parser\n",
        "\n",
        "\n",
        "  q=queries[query_idx]\n",
        "  resp = sql_expl_chain.invoke({\"sql_query\": q})\n",
        "  print(f\"SQL QUERY (no. {query_idx})\\n\\n\"+q+f\"\\n\\nEXPLANATION (prompt {PROMPT_IDX}):\\n\\n\"+resp)"
      ],
      "metadata": {
        "id": "sxVNjCbI3OKl"
      },
      "execution_count": 121,
      "outputs": []
    },
    {
      "cell_type": "code",
      "source": [
        "run_experiment(query_idx=3, prompt_idx=1, model=gpt3_5)"
      ],
      "metadata": {
        "colab": {
          "base_uri": "https://localhost:8080/"
        },
        "id": "eCxJgsDU61gc",
        "outputId": "5c0abc96-beff-46ac-f181-d366a5631b71"
      },
      "execution_count": 123,
      "outputs": [
        {
          "output_type": "stream",
          "name": "stdout",
          "text": [
            "SQL QUERY (no. 3)\n",
            "\n",
            "\n",
            "SELECT \n",
            "  abs(sum(amount)) as total_per_cat, \n",
            "  abs(sum(amount))/(select sum(amount) from finance_flow where amount>0) *100 as percentage,\n",
            "  category.name \n",
            "FROM finance_flow \n",
            "LEFT JOIN category ON finance_flow.cat_id = category.id \n",
            "WHERE amount<0\n",
            "GROUP BY category.name\n",
            "\n",
            "\n",
            "EXPLANATION (prompt 1):\n",
            "\n",
            "Summary: This SQL query fetches the total amount and percentage of negative amounts per category from the finance_flow table, along with the name of each category.\n",
            "\n",
            "Details:\n",
            "- Tables used: finance_flow, category\n",
            "- Filtering criteria: \n",
            "  - amount<0\n"
          ]
        }
      ]
    },
    {
      "cell_type": "code",
      "source": [],
      "metadata": {
        "id": "Dm9UqjTz4yV_"
      },
      "execution_count": null,
      "outputs": []
    }
  ]
}