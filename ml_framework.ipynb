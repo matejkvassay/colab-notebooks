{
  "nbformat": 4,
  "nbformat_minor": 0,
  "metadata": {
    "colab": {
      "name": "ml_framework.ipynb",
      "provenance": [],
      "collapsed_sections": [],
      "authorship_tag": "ABX9TyOgqbaSplX7x8kMoLvowIGP",
      "include_colab_link": true
    },
    "kernelspec": {
      "name": "python3",
      "display_name": "Python 3"
    },
    "language_info": {
      "name": "python"
    }
  },
  "cells": [
    {
      "cell_type": "markdown",
      "metadata": {
        "id": "view-in-github",
        "colab_type": "text"
      },
      "source": [
        "<a href=\"https://colab.research.google.com/github/matejkvassay/colab-notebooks/blob/master/ml_framework.ipynb\" target=\"_parent\"><img src=\"https://colab.research.google.com/assets/colab-badge.svg\" alt=\"Open In Colab\"/></a>"
      ]
    },
    {
      "cell_type": "code",
      "metadata": {
        "id": "vCgWQ7gIM2Q1"
      },
      "source": [
        "import torch\n",
        "from torch import nn\n",
        "import matplotlib.pyplot as plt"
      ],
      "execution_count": null,
      "outputs": []
    },
    {
      "cell_type": "code",
      "metadata": {
        "colab": {
          "base_uri": "https://localhost:8080/"
        },
        "id": "CaIruq5OM_-9",
        "outputId": "e8465a36-91d0-4fa4-a382-9dbf03007d97"
      },
      "source": [
        "device = torch.device(\"cuda\" if torch.cuda.is_available() else \"cpu\")\n",
        "print(f'Found device: {device}')"
      ],
      "execution_count": null,
      "outputs": [
        {
          "output_type": "stream",
          "name": "stdout",
          "text": [
            "Found device: cpu\n"
          ]
        }
      ]
    },
    {
      "cell_type": "code",
      "metadata": {
        "colab": {
          "base_uri": "https://localhost:8080/"
        },
        "id": "o2d2cdeieT9V",
        "outputId": "669329bd-c855-4790-cdbe-6407c31128fc"
      },
      "source": [
        "torch.Tensor((10,2))"
      ],
      "execution_count": 18,
      "outputs": [
        {
          "output_type": "execute_result",
          "data": {
            "text/plain": [
              "tensor([10.,  2.])"
            ]
          },
          "metadata": {},
          "execution_count": 18
        }
      ]
    },
    {
      "cell_type": "code",
      "metadata": {
        "colab": {
          "base_uri": "https://localhost:8080/"
        },
        "id": "Q6Q2jItANdl6",
        "outputId": "6d1575b1-827a-4c39-e7ef-f0a63f4005f5"
      },
      "source": [
        "def uniform_init(*dim, start=0.0, end=1.0, grad=True):\n",
        "  tensor = torch.zeros(*dim, requires_grad=grad)\n",
        "  tensor.uniform_(start, end)\n",
        "  return tensor \n",
        "\n",
        "class SigmoidActivation(nn.Module):\n",
        "  def forward(self, X):\n",
        "    return 1.0 / (1.0 + torch.exp(-X))\n",
        "\n",
        "class LinearLayer(nn.Module):\n",
        "  def __init__(self, input_dim, output_dim, bias=True, w_init=uniform_init,\n",
        "               grad=True):\n",
        "    self.W=w_init((input_dim, output_dim), grad=grad)\n",
        "    self.b = None\n",
        "    if bias is True:\n",
        "      self.b=w_init(output_dim, grad=grad)\n",
        "\n",
        "  def forward(self, X):\n",
        "    hidden_state = X.mm(self.W)\n",
        "    if self.b is not None:\n",
        "      hidden_state = hidden_state + self.b\n",
        "    return hidden_state\n",
        "\n",
        "def test_sigmoid_activation():\n",
        "  act=SigmoidActivation()\n",
        "  test_array = torch.tensor([0.55, -11.5, 0.001, 0.5,0.2,-0.2])\n",
        "  exp_res = torch.tensor([0.634136, 0.00001013, 0.50025, 0.622459, 0.549834, 0.450166])\n",
        "  res = act.forward(test_array)\n",
        "  assert all(torch.isclose(res, exp_res))\n",
        "\n",
        "  tensor_shape=(55,12,4)\n",
        "  test_tensor = torch.rand(tensor_shape)\n",
        "  res=act.forward(test_tensor)\n",
        "  assert res.shape==tenshor_shape\n",
        "\n",
        "\n",
        "def test_uniform_init():\n",
        "  t = uniform_init((5,10), grad=False)\n",
        "  assert t.shape == (5,10)\n",
        "  t=t.flatten()\n",
        "  assert all(t.flatten() >= 0.0) and all(t.flatten() <= 1.0)\n",
        "\n",
        "  t = uniform_init((5000,20), start=-1, end=1, grad=False)\n",
        "  assert t.shape == (5000,20)\n",
        "  t=t.flatten()\n",
        "  assert all(t >= -1) and all(t <= 1)\n",
        "  assert any(t<0)\n",
        "  \n",
        "  t = uniform_init(5000, start=-1, end=1, grad=False)\n",
        "  assert t.shape == (5000,)\n",
        "  t=t.flatten()\n",
        "  assert all(t >= -1) and all(t <= 1)\n",
        "\n",
        "def test_linear_layer_output_shape():\n",
        "  x_dim = 128\n",
        "  n_samples = 1352\n",
        "  out_dim = 32\n",
        "  X = torch.rand((n_samples, x_dim))\n",
        "  lin = LinearLayer(x_dim, out_dim, grad=False)\n",
        "  Z = lin.forward(X)\n",
        "  assert Z.shape == (n_samples, out_dim)\n",
        "  print('Test ok.')\n",
        "\n",
        "test_sigmoid_activation()\n",
        "test_uniform_init()\n",
        "test_linear_layer_output_shape()\n"
      ],
      "execution_count": 63,
      "outputs": [
        {
          "output_type": "stream",
          "name": "stdout",
          "text": [
            "Test ok.\n"
          ]
        }
      ]
    },
    {
      "cell_type": "code",
      "metadata": {
        "colab": {
          "base_uri": "https://localhost:8080/",
          "height": 282
        },
        "id": "lJ0spPJENgBq",
        "outputId": "ed88e164-b14e-4359-834b-7d61e8b6b9b8"
      },
      "source": [
        "plt.scatter(X[:,0],X[:,1])"
      ],
      "execution_count": null,
      "outputs": [
        {
          "output_type": "execute_result",
          "data": {
            "text/plain": [
              "<matplotlib.collections.PathCollection at 0x7f9c0bd945d0>"
            ]
          },
          "metadata": {},
          "execution_count": 27
        },
        {
          "output_type": "display_data",
          "data": {
            "image/png": "[encoded data removed]",
            "text/plain": [
              "<Figure size 432x288 with 1 Axes>"
            ]
          },
          "metadata": {
            "needs_background": "light"
          }
        }
      ]
    },
    {
      "cell_type": "code",
      "metadata": {
        "id": "X053zsQoOZB6"
      },
      "source": [
        "W=torch.rand(())\n",
        "b=torch.rand((1,x_dim))"
      ],
      "execution_count": null,
      "outputs": []
    },
    {
      "cell_type": "code",
      "metadata": {
        "id": "MkmAiyNjPRgw"
      },
      "source": [
        "x=torch.rand((1, x_dim))"
      ],
      "execution_count": null,
      "outputs": []
    },
    {
      "cell_type": "code",
      "metadata": {
        "id": "-obZ53qZPXxu"
      },
      "source": [
        "W=torch.rand((2,2))"
      ],
      "execution_count": null,
      "outputs": []
    },
    {
      "cell_type": "code",
      "metadata": {
        "colab": {
          "base_uri": "https://localhost:8080/"
        },
        "id": "a9sRgQWTPUlX",
        "outputId": "87ef4317-007a-4c99-c15c-319764b61649"
      },
      "source": [
        "x"
      ],
      "execution_count": null,
      "outputs": [
        {
          "output_type": "execute_result",
          "data": {
            "text/plain": [
              "tensor([[0.1448, 0.1342]])"
            ]
          },
          "metadata": {},
          "execution_count": 32
        }
      ]
    },
    {
      "cell_type": "code",
      "metadata": {
        "id": "2hCp_q7GPU8o"
      },
      "source": [
        "def linear(X, W, b):\n",
        "  X.T * W + b"
      ],
      "execution_count": null,
      "outputs": []
    },
    {
      "cell_type": "code",
      "metadata": {
        "id": "e8yggXTXPkOY"
      },
      "source": [
        ""
      ],
      "execution_count": null,
      "outputs": []
    }
  ]
}