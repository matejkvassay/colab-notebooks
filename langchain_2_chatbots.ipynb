{
  "nbformat": 4,
  "nbformat_minor": 0,
  "metadata": {
    "colab": {
      "provenance": [],
      "authorship_tag": "ABX9TyPQsw+RJf61Z5FmaR4hcqaO",
      "include_colab_link": true
    },
    "kernelspec": {
      "name": "python3",
      "display_name": "Python 3"
    },
    "language_info": {
      "name": "python"
    }
  },
  "cells": [
    {
      "cell_type": "markdown",
      "metadata": {
        "id": "view-in-github",
        "colab_type": "text"
      },
      "source": [
        "<a href=\"https://colab.research.google.com/github/matejkvassay/colab-notebooks/blob/master/langchain_2_chatbots.ipynb\" target=\"_parent\"><img src=\"https://colab.research.google.com/assets/colab-badge.svg\" alt=\"Open In Colab\"/></a>"
      ]
    },
    {
      "cell_type": "code",
      "execution_count": 37,
      "metadata": {
        "colab": {
          "base_uri": "https://localhost:8080/"
        },
        "id": "_WGoRJi6WCw9",
        "outputId": "113ef4ff-36ae-4832-80d9-43cd2cfd9da6"
      },
      "outputs": [
        {
          "output_type": "stream",
          "name": "stdout",
          "text": [
            "\u001b[33mWARNING: Running pip as the 'root' user can result in broken permissions and conflicting behaviour with the system package manager. It is recommended to use a virtual environment instead: https://pip.pypa.io/warnings/venv\u001b[0m\u001b[33m\n",
            "\u001b[0m"
          ]
        }
      ],
      "source": [
        "%pip install -q --upgrade pip kaleido python-multipart cohere openai langchain langchain-openai langchain-community langchain-experimental  chromadb beautifulsoup4"
      ]
    },
    {
      "cell_type": "code",
      "source": [
        "from google.colab import userdata\n",
        "from langchain_openai import ChatOpenAI\n",
        "from langchain_core.messages import HumanMessage, AIMessage, SystemMessage\n",
        "from langchain_core.prompts import ChatPromptTemplate, MessagesPlaceholder\n",
        "from langchain.memory import ChatMessageHistory\n",
        "from langchain_community.document_loaders import WebBaseLoader\n",
        "from langchain.text_splitter import RecursiveCharacterTextSplitter\n",
        "from justext import justext, get_stoplist\n",
        "\n",
        "\n",
        "\n",
        "API_KEY = userdata.get('OPENAI_API_KEY')\n",
        "\n",
        "\n",
        "def print_chat(hist):\n",
        "  for x in hist.messages:\n",
        "    if isinstance(x, HumanMessage):\n",
        "      print(f\"\\nYOU: {x.content}\")\n",
        "    else:\n",
        "      print(f\"\\nGPT: {x.content}\")\n",
        "\n",
        "def gpt_invoke(msg_hist, chain):\n",
        "  ai_msg = chain.invoke({'messages':msg_hist.messages})\n",
        "  msg_hist.add_ai_message(ai_msg)\n",
        "  print_chat(msg_hist)\n",
        "  return msg_hist"
      ],
      "metadata": {
        "id": "y2Lg7De0WQja"
      },
      "execution_count": 42,
      "outputs": []
    },
    {
      "cell_type": "markdown",
      "source": [
        "# GPT Bot Setup"
      ],
      "metadata": {
        "id": "GzE-885EdosQ"
      }
    },
    {
      "cell_type": "code",
      "source": [
        "chat = ChatOpenAI(model=\"gpt-3.5-turbo\", temperature=0.2, openai_api_key=API_KEY)\n",
        "\n",
        "prompt = ChatPromptTemplate.from_messages(\n",
        "    [\n",
        "        (\n",
        "            \"system\",\n",
        "            \"You are a helpful financial assistant. You world-class expert on finance and accounting, very brief, formal and to the point.\",\n",
        "        ),\n",
        "        MessagesPlaceholder(variable_name=\"messages\"),\n",
        "    ]\n",
        ")\n",
        "\n",
        "chain = prompt | chat\n",
        "\n",
        "msg_hist = ChatMessageHistory()\n",
        "msg_hist.add_ai_message(\"Hello, I'm GPT financial assistant. How may I help you today?\")"
      ],
      "metadata": {
        "id": "YDK3oWWVXBi6"
      },
      "execution_count": 64,
      "outputs": []
    },
    {
      "cell_type": "markdown",
      "source": [
        "# Chat"
      ],
      "metadata": {
        "id": "tJhTA-omdtUT"
      }
    },
    {
      "cell_type": "code",
      "source": [
        "MESSAGE = \"How's NASDAQ doing\"\n",
        "\n",
        "msg_hist.add_user_message(MESSAGE)\n",
        "msg_hist=gpt_invoke(msg_hist, chain)"
      ],
      "metadata": {
        "colab": {
          "base_uri": "https://localhost:8080/"
        },
        "id": "tFbwZ3rMXU_s",
        "outputId": "1559dfe9-3bb9-4eb5-a254-07b16fdb6ad3"
      },
      "execution_count": 67,
      "outputs": [
        {
          "output_type": "stream",
          "name": "stdout",
          "text": [
            "\n",
            "GPT: Hello, I'm GPT financial assistant. How may I help you today?\n",
            "\n",
            "YOU: Thee advice is pure gold my friend!\n",
            "\n",
            "GPT: Thank you for your kind words! I'm here to provide you with accurate and concise financial advice. How can I assist you further?\n",
            "\n",
            "YOU: How's NASDAQ doing\n",
            "\n",
            "GPT: I'm sorry, but as an AI text-based model, I don't have real-time data access. I recommend checking a reliable financial news source or financial website for the latest information on NASDAQ performance.\n"
          ]
        }
      ]
    },
    {
      "cell_type": "code",
      "source": [],
      "metadata": {
        "id": "w9RtWac3jkWy"
      },
      "execution_count": null,
      "outputs": []
    }
  ]
}